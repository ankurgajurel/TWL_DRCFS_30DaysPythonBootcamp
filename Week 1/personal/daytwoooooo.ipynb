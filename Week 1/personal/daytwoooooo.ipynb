{
 "cells": [
  {
   "cell_type": "code",
   "execution_count": 4,
   "metadata": {},
   "outputs": [
    {
     "ename": "ValueError",
     "evalue": "invalid literal for int() with base 10: 't'",
     "output_type": "error",
     "traceback": [
      "\u001b[0;31m---------------------------------------------------------------------------\u001b[0m",
      "\u001b[0;31mValueError\u001b[0m                                Traceback (most recent call last)",
      "Cell \u001b[0;32mIn[4], line 12\u001b[0m\n\u001b[1;32m     10\u001b[0m age_in_string \u001b[39m=\u001b[39m \u001b[39minput\u001b[39m(\u001b[39m\"\u001b[39m\u001b[39mEnter your age: \u001b[39m\u001b[39m\"\u001b[39m)\n\u001b[1;32m     11\u001b[0m \u001b[39m#2\u001b[39;00m\n\u001b[0;32m---> 12\u001b[0m age \u001b[39m=\u001b[39m \u001b[39mint\u001b[39;49m(age_in_string)\n\u001b[1;32m     14\u001b[0m \u001b[39m#3\u001b[39;00m\n\u001b[1;32m     15\u001b[0m \u001b[39mif\u001b[39;00m(age \u001b[39m>\u001b[39m \u001b[39m16\u001b[39m):\n\u001b[1;32m     16\u001b[0m     \u001b[39m#4\u001b[39;00m\n",
      "\u001b[0;31mValueError\u001b[0m: invalid literal for int() with base 10: 't'"
     ]
    }
   ],
   "source": [
    "# Control Flow Statement Revision\n",
    "# Conditions Applicable\n",
    "# 1. input\n",
    "# 2. int()\n",
    "# 3. check if 16 or older\n",
    "# 4. display eligibility\n",
    "\n",
    "\n",
    "#1\n",
    "age_in_string = input(\"Enter your age: \")\n",
    "#2\n",
    "age = int(age_in_string)\n",
    "\n",
    "#3\n",
    "if(age > 16):\n",
    "    #4\n",
    "    print(\"You are eligible\")\n",
    "#3\n",
    "else:\n",
    "    #4\n",
    "    print(\"Sorry\")"
   ]
  },
  {
   "cell_type": "code",
   "execution_count": 6,
   "metadata": {},
   "outputs": [
    {
     "name": "stdout",
     "output_type": "stream",
     "text": [
      "You're logged in\n"
     ]
    }
   ],
   "source": [
    "# LOGIN SYSTEM\n",
    "\n",
    "user = input(\"Enter username: \")\n",
    "passW = input(\"Enter password: \")\n",
    "\n",
    "if user == \"admin\" and passW == \"pass\":\n",
    "    print(\"You're logged in\")\n",
    "else:\n",
    "    print(\"tf why you trynna login arkako system ma\")"
   ]
  },
  {
   "cell_type": "code",
   "execution_count": 7,
   "metadata": {},
   "outputs": [
    {
     "name": "stdout",
     "output_type": "stream",
     "text": [
      "even\n",
      "odd\n",
      "even\n",
      "odd\n",
      "even\n",
      "odd\n",
      "even\n",
      "odd\n",
      "even\n",
      "odd\n"
     ]
    }
   ],
   "source": [
    "#Loop Statements\n",
    "\n",
    "#odd even\n",
    "for i in range(10):\n",
    "    if i % 2 == 0:\n",
    "        print(\"even\")\n",
    "    else:\n",
    "        print(\"odd\")"
   ]
  }
 ],
 "metadata": {
  "kernelspec": {
   "display_name": "Python 3.10.6 64-bit",
   "language": "python",
   "name": "python3"
  },
  "language_info": {
   "codemirror_mode": {
    "name": "ipython",
    "version": 3
   },
   "file_extension": ".py",
   "mimetype": "text/x-python",
   "name": "python",
   "nbconvert_exporter": "python",
   "pygments_lexer": "ipython3",
   "version": "3.10.6"
  },
  "orig_nbformat": 4,
  "vscode": {
   "interpreter": {
    "hash": "916dbcbb3f70747c44a77c7bcd40155683ae19c65e1c03b4aa3499c5328201f1"
   }
  }
 },
 "nbformat": 4,
 "nbformat_minor": 2
}
