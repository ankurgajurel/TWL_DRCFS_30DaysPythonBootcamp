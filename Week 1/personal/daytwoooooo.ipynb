{
 "cells": [
  {
   "cell_type": "code",
   "execution_count": 1,
   "metadata": {},
   "outputs": [
    {
     "name": "stdout",
     "output_type": "stream",
     "text": [
      "Sorry\n"
     ]
    }
   ],
   "source": [
    "# Control Flow Statement Revision\n",
    "# Conditions Applicable\n",
    "# 1. input\n",
    "# 2. int()\n",
    "# 3. check if 16 or older\n",
    "# 4. display eligibility\n",
    "\n",
    "\n",
    "#1\n",
    "age_in_string = input(\"Enter your age: \")\n",
    "#2\n",
    "age = int(age_in_string)\n",
    "\n",
    "#3\n",
    "if(age > 16):\n",
    "    #4\n",
    "    print(\"You are eligible\")\n",
    "#3\n",
    "else:\n",
    "    #4\n",
    "    print(\"Sorry\")"
   ]
  },
  {
   "cell_type": "code",
   "execution_count": 6,
   "metadata": {},
   "outputs": [
    {
     "name": "stdout",
     "output_type": "stream",
     "text": [
      "You're logged in\n"
     ]
    }
   ],
   "source": [
    "# LOGIN SYSTEM\n",
    "\n",
    "user = input(\"Enter username: \")\n",
    "passW = input(\"Enter password: \")\n",
    "\n",
    "if user == \"admin\" and passW == \"pass\":\n",
    "    print(\"You're logged in\")\n",
    "else:\n",
    "    print(\"tf why you trynna login arkako system ma\")"
   ]
  },
  {
   "cell_type": "code",
   "execution_count": 7,
   "metadata": {},
   "outputs": [
    {
     "name": "stdout",
     "output_type": "stream",
     "text": [
      "even\n",
      "odd\n",
      "even\n",
      "odd\n",
      "even\n",
      "odd\n",
      "even\n",
      "odd\n",
      "even\n",
      "odd\n"
     ]
    }
   ],
   "source": [
    "#Loop Statements\n",
    "\n",
    "#odd even\n",
    "for i in range(10):\n",
    "    if i % 2 == 0:\n",
    "        print(\"even\")\n",
    "    else:\n",
    "        print(\"odd\")"
   ]
  },
  {
   "cell_type": "markdown",
   "metadata": {},
   "source": [
    "### Guessing Game\n",
    "\n",
    "1. Take input from user\n",
    "2. Generate a random number with Python\n",
    "3. Compare input integer and random number\n",
    "    1. Random Number < Input Number:\n",
    "        display the guessed number is greater\n",
    "        2. run number two again\n",
    "    2. Random Number > Input Number:\n",
    "        display the guessed number is less\n",
    "        2. run number two again\n",
    "    3. Random Number = Input Number:\n",
    "        display you guessed the correct number"
   ]
  },
  {
   "cell_type": "code",
   "execution_count": 13,
   "metadata": {},
   "outputs": [
    {
     "name": "stdout",
     "output_type": "stream",
     "text": [
      "You guessed thorai\n",
      "You guessed dherai\n",
      "YAYYY CONGRATSS\n"
     ]
    }
   ],
   "source": [
    "import random\n",
    "\n",
    "rand = random.randint(0, 10)\n",
    "\n",
    "for i in range(5):\n",
    "    temp = int(input(\"Guess a number from 1 to 10\"))\n",
    "    if(temp > rand):\n",
    "        print(\"You guessed dherai\")\n",
    "    elif(temp < rand):\n",
    "        print(\"You guessed thorai\")\n",
    "    elif(temp == rand):\n",
    "        print(\"YAYYY CONGRATSS\")\n",
    "        break\n",
    "    else:\n",
    "        print(\"tf did you do .. program chalena\")"
   ]
  }
 ],
 "metadata": {
  "kernelspec": {
   "display_name": "Python 3.10.6 64-bit",
   "language": "python",
   "name": "python3"
  },
  "language_info": {
   "codemirror_mode": {
    "name": "ipython",
    "version": 3
   },
   "file_extension": ".py",
   "mimetype": "text/x-python",
   "name": "python",
   "nbconvert_exporter": "python",
   "pygments_lexer": "ipython3",
   "version": "3.10.6"
  },
  "orig_nbformat": 4,
  "vscode": {
   "interpreter": {
    "hash": "916dbcbb3f70747c44a77c7bcd40155683ae19c65e1c03b4aa3499c5328201f1"
   }
  }
 },
 "nbformat": 4,
 "nbformat_minor": 2
}
