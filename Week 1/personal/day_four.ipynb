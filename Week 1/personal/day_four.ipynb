{
 "cells": [
  {
   "cell_type": "markdown",
   "metadata": {},
   "source": [
    "list ra tuples  "
   ]
  },
  {
   "cell_type": "code",
   "execution_count": 7,
   "metadata": {},
   "outputs": [
    {
     "name": "stdout",
     "output_type": "stream",
     "text": [
      "ankur\n",
      "ankur\n",
      "samrid\n",
      "romisha\n",
      "pariz\n",
      "['ankur', 'samrid', 'romisha', 'pariz', 'mahesh']\n",
      "['lomi', 'ankur', 'samrid', 'romisha', 'pariz', 'mahesh']\n"
     ]
    }
   ],
   "source": [
    "my_list = [\"ankur\", \"samrid\", \"romisha\", \"pariz\"]\n",
    "\n",
    "print(my_list[0])\n",
    "\n",
    "for i in my_list:\n",
    "    print(i)\n",
    "\n",
    "my_list.append(\"mahesh\")\n",
    "print(my_list)\n",
    "\n",
    "my_list.insert(0, \"lomi\")\n",
    "print(my_list)"
   ]
  }
 ],
 "metadata": {
  "kernelspec": {
   "display_name": "Python 3.10.6 64-bit",
   "language": "python",
   "name": "python3"
  },
  "language_info": {
   "codemirror_mode": {
    "name": "ipython",
    "version": 3
   },
   "file_extension": ".py",
   "mimetype": "text/x-python",
   "name": "python",
   "nbconvert_exporter": "python",
   "pygments_lexer": "ipython3",
   "version": "3.10.6"
  },
  "orig_nbformat": 4,
  "vscode": {
   "interpreter": {
    "hash": "916dbcbb3f70747c44a77c7bcd40155683ae19c65e1c03b4aa3499c5328201f1"
   }
  }
 },
 "nbformat": 4,
 "nbformat_minor": 2
}
