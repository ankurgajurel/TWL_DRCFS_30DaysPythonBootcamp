{
 "cells": [
  {
   "cell_type": "markdown",
   "metadata": {},
   "source": [
    "### Guessing Game\n",
    "\n",
    "1. Take input from user\n",
    "2. Generate a random number with Python\n",
    "3. Compare input integer and random number\n",
    "    1. Random Number < Input Number:\n",
    "        display the guessed number is greater\n",
    "        2. run number two again\n",
    "    2. Random Number > Input Number:\n",
    "        display the guessed number is less\n",
    "        2. run number two again\n",
    "    3. Random Number = Input Number:\n",
    "        display you guessed the correct number"
   ]
  },
  {
   "cell_type": "code",
   "execution_count": null,
   "metadata": {},
   "outputs": [],
   "source": [
    "import random\n",
    "\n",
    "rand = random.randint(0, 10)\n",
    "\n",
    "for i in range(5):\n",
    "    temp = int(input(\"Guess a number from 1 to 10\"))\n",
    "    if(temp > rand):\n",
    "        print(\"You guessed dherai\")\n",
    "    elif(temp < rand):\n",
    "        print(\"You guessed thorai\")\n",
    "    elif(temp == rand):\n",
    "        print(\"YAYYY CONGRATSS\")\n",
    "        break\n",
    "    else:\n",
    "        print(\"tf did you do .. program chalena\")"
   ]
  }
 ],
 "metadata": {
  "kernelspec": {
   "display_name": "Python 3.10.6 64-bit",
   "language": "python",
   "name": "python3"
  },
  "language_info": {
   "name": "python",
   "version": "3.10.6"
  },
  "orig_nbformat": 4,
  "vscode": {
   "interpreter": {
    "hash": "916dbcbb3f70747c44a77c7bcd40155683ae19c65e1c03b4aa3499c5328201f1"
   }
  }
 },
 "nbformat": 4,
 "nbformat_minor": 2
}
